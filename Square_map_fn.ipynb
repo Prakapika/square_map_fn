{
 "cells": [
  {
   "cell_type": "code",
   "execution_count": 2,
   "id": "24d93e7a",
   "metadata": {},
   "outputs": [
    {
     "name": "stdout",
     "output_type": "stream",
     "text": [
      "[16, 25, 4, 81]\n"
     ]
    }
   ],
   "source": [
    "#Program to square the elements of a list using map() function.\n",
    "Sample_List = [4, 5, 2, 9]\n",
    "squared_number = list(map(lambda a : a**2, Sample_List))\n",
    "print(squared_number)"
   ]
  },
  {
   "cell_type": "code",
   "execution_count": null,
   "id": "de31cb25",
   "metadata": {},
   "outputs": [],
   "source": []
  }
 ],
 "metadata": {
  "kernelspec": {
   "display_name": "Python 3 (ipykernel)",
   "language": "python",
   "name": "python3"
  },
  "language_info": {
   "codemirror_mode": {
    "name": "ipython",
    "version": 3
   },
   "file_extension": ".py",
   "mimetype": "text/x-python",
   "name": "python",
   "nbconvert_exporter": "python",
   "pygments_lexer": "ipython3",
   "version": "3.10.6"
  }
 },
 "nbformat": 4,
 "nbformat_minor": 5
}
